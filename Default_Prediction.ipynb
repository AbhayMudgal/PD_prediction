{
  "nbformat": 4,
  "nbformat_minor": 0,
  "metadata": {
    "colab": {
      "name": "Default Prediction.ipynb",
      "provenance": [],
      "authorship_tag": "ABX9TyN8mu/IBexHf1yUIAjA99OI",
      "include_colab_link": true
    },
    "kernelspec": {
      "name": "python3",
      "display_name": "Python 3"
    },
    "language_info": {
      "name": "python"
    }
  },
  "cells": [
    {
      "cell_type": "markdown",
      "metadata": {
        "id": "view-in-github",
        "colab_type": "text"
      },
      "source": [
        "<a href=\"https://colab.research.google.com/github/AbhayMudgal/PD_prediction/blob/main/Default_Prediction.ipynb\" target=\"_parent\"><img src=\"https://colab.research.google.com/assets/colab-badge.svg\" alt=\"Open In Colab\"/></a>"
      ]
    },
    {
      "cell_type": "code",
      "metadata": {
        "id": "EQ2YBsDTYZsa"
      },
      "source": [
        "import numpy as np\n",
        "import pandas as pd\n",
        "import matplotlib.pyplot as plt\n",
        "import seaborn as sns\n",
        "\n",
        "from tensorflow import keras as K\n",
        "from tensorflow.keras.utils import to_categorical\n",
        "\n",
        "from sklearn.preprocessing import LabelEncoder\n",
        "from sklearn.model_selection import train_test_split\n",
        "from sklearn.preprocessing import MinMaxScaler"
      ],
      "execution_count": 29,
      "outputs": []
    },
    {
      "cell_type": "code",
      "metadata": {
        "colab": {
          "base_uri": "https://localhost:8080/"
        },
        "id": "-BrgeIDTZleB",
        "outputId": "0812acd5-dd78-45a2-ae77-8712049f9e14"
      },
      "source": [
        "data = pd.read_csv(\"Train_set.csv\")\n",
        "test = pd.read_csv(\"Test_set.csv\")\n",
        "data.columns"
      ],
      "execution_count": 2,
      "outputs": [
        {
          "output_type": "execute_result",
          "data": {
            "text/plain": [
              "Index(['ID', 'loan_amnt', 'loan_term', 'interest_rate', 'loan_grade',\n",
              "       'loan_subgrade', 'job_experience', 'home_ownership', 'annual_income',\n",
              "       'income_verification_status', 'loan_purpose', 'state_code',\n",
              "       'debt_to_income', 'delinq_2yrs', 'public_records', 'revolving_balance',\n",
              "       'total_acc', 'interest_receive', 'application_type', 'last_week_pay',\n",
              "       'total_current_balance', 'total_revolving_limit', 'default'],\n",
              "      dtype='object')"
            ]
          },
          "metadata": {
            "tags": []
          },
          "execution_count": 2
        }
      ]
    },
    {
      "cell_type": "code",
      "metadata": {
        "id": "jUxmFQYKD3ug",
        "colab": {
          "base_uri": "https://localhost:8080/",
          "height": 248
        },
        "outputId": "ca2679f0-f3b6-46a8-8c0b-85e67b456bd9"
      },
      "source": [
        "data.default.value_counts().plot(kind = 'pie', autopct='%1.2f%%', subplots = True, explode = (0.05, 0.05), startangle = 80, legend = True, fontsize = 12)\n",
        "plt.legend(['0: paid', '1:default'])\n",
        "plt.show()"
      ],
      "execution_count": 4,
      "outputs": [
        {
          "output_type": "display_data",
          "data": {
            "image/png": "[encoded data removed]",
            "text/plain": [
              "<Figure size 432x288 with 1 Axes>"
            ]
          },
          "metadata": {
            "tags": []
          }
        }
      ]
    },
    {
      "cell_type": "code",
      "metadata": {
        "id": "S5lS2omK1XZJ"
      },
      "source": [
        "#General Functions. Input string containing column name.\n",
        "def stats(x):\n",
        "    # basic statistics about a column.\n",
        "    print(f\"Variable: {x}\")\n",
        "    print(f\"Type of variable: {data[x].dtype}\")\n",
        "    print(f\"Total observations: {data[x].shape[0]}\")\n",
        "    detect_null_val = data[x].isnull().values.any()\n",
        "    if detect_null_val:\n",
        "        print(f\"Missing values: {data[x].isnull().sum()} ({(data[x].isnull().sum() / data[x].isnull().shape[0] *100).round(2)}%)\")\n",
        "    else:\n",
        "        print(f\"Missing values? {data[x].isnull().values.any()}\")\n",
        "    print(f\"Unique values: {data[x].nunique()}\")\n",
        "    if data[x].dtype != \"O\":\n",
        "        print(f\"Min: {int(data[x].min())}\")\n",
        "        print(f\"25%: {int(data[x].quantile(q=[.25]).iloc[-1])}\")\n",
        "        print(f\"Median: {int(data[x].median())}\")\n",
        "        print(f\"75%: {int(data[x].quantile(q=[.75]).iloc[-1])}\")\n",
        "        print(f\"Max: {int(data[x].max())}\")\n",
        "        print(f\"Mean: {data[x].mean()}\")\n",
        "        print(f\"Std dev: {data[x].std()}\")\n",
        "        print(f\"Variance: {data[x].var()}\")\n",
        "        print(f\"Skewness: {scipy.stats.skew(data[x])}\")\n",
        "        print(f\"Kurtosis: {scipy.stats.kurtosis(data[x])}\")\n",
        "        print(\"\")\n",
        "        \n",
        "        # Percentiles 1%, 5%, 95% and 99%print(\"Percentiles 1%, 5%, 95%, 99%\")\n",
        "        display(data[x].quantile(q=[.01, .05, .95, .99]))\n",
        "        print(\"\")\n",
        "    else:\n",
        "        print(f\"List of unique values: {data[x].unique()}\")\n",
        "\n",
        "def segregated_counts(x):\n",
        "  #plots a bar graph of the column against the unique values of default.\n",
        "  zero = data[data.default == 0].loc[:, x]\n",
        "  one = data[data.default == 1].loc[:, x]\n",
        "\n",
        "  a = np.array(zero)\n",
        "  b = np.array(one)\n",
        "\n",
        "  zero.value_counts().plot(kind = 'pie', autopct='%1.2f%%', subplots = True, explode = (0.05, 0.05), startangle = 80, legend = True, fontsize = 12)\n",
        "  plt.legend(['3', '5'])\n",
        "  plt.title('Non-Defaults', loc = 'right')  \n",
        "  plt.show()\n",
        "  \n",
        "  one.value_counts().plot(kind = 'pie', autopct='%1.2f%%', subplots = True, explode = (0.05, 0.05), startangle = 80, legend = True, fontsize = 12)\n",
        "  plt.legend(['3', '5'])\n",
        "  plt.title('Defaults', loc = 'right')  \n",
        "  plt.show()\n",
        "\n",
        "  np.warnings.filterwarnings('ignore')\n",
        "\n",
        "  plt.hist(a, bins = 40, label = 'Non Default', align = 'left')\n",
        "  plt.hist(b, bins = 40, align = 'right', label = \"Default\")\n",
        "\n",
        "  plt.legend(loc = 'upper right')\n",
        "  plt.title(x, loc = 'right')\n",
        "  plt.xlabel('relative frequency')\n",
        "  plt.ylabel('absolute frequency')\n",
        "  plt.show()\n",
        "\n",
        "def boxhist(x):\n",
        "  # plots the boxplot + histogram of the data column\n",
        "  column = data[x]\n",
        "\n",
        "  mean = np.array(column).mean()\n",
        "  median = np.median(column)\n",
        "\n",
        "  f, (box, hist) = plt.subplots(2, sharex = True, gridspec_kw={\"height_ratios\": (0.5, 2)})\n",
        "\n",
        "  sns.boxplot(column, ax = box)\n",
        "  box.axvline(mean, color = 'r', linestyle = \"--\")\n",
        "  box.axvline(median, color = 'g', linestyle = '-')\n",
        "\n",
        "  sns.histplot(column, ax = hist)\n",
        "  hist.axvline(mean, color = 'r', linestyle = \"--\")\n",
        "  hist.axvline(median, color = 'g', linestyle = '-')\n",
        "\n",
        "  plt.title(x, loc = 'right')\n",
        "  plt.legend({'Mean':mean, 'Median': median})\n",
        "  plt.xlabel(\"\")\n",
        "  plt.show()\n",
        "\n",
        "\n",
        "\n"
      ],
      "execution_count": 40,
      "outputs": []
    },
    {
      "cell_type": "code",
      "metadata": {
        "colab": {
          "base_uri": "https://localhost:8080/",
          "height": 265
        },
        "id": "jZ8mgsIbEQNC",
        "outputId": "e145e82c-e2b1-45d1-dca1-96c15a6bf990"
      },
      "source": [
        "boxhist(\"loan_amnt\")"
      ],
      "execution_count": 41,
      "outputs": [
        {
          "output_type": "display_data",
          "data": {
            "image/png": "[encoded data removed]",
            "text/plain": [
              "<Figure size 432x288 with 2 Axes>"
            ]
          },
          "metadata": {
            "tags": [],
            "needs_background": "light"
          }
        }
      ]
    },
    {
      "cell_type": "code",
      "metadata": {
        "id": "PlV9rtRNnzSC"
      },
      "source": [
        "data['total_current_balance'].fillna(110000, inplace = True)\n",
        "test['total_current_balance'].fillna(110000, inplace = True)\n",
        "data['last_week_pay'].fillna(48, inplace = True)\n",
        "test['last_week_pay'].fillna(48, inplace = True)\n",
        "data['total_revolving_limit'].fillna(32000, inplace = True)\n",
        "test['total_revolving_limit'].fillna(32000, inplace = True)\n",
        "data['job_experience'].fillna(method = 'ffill', inplace = True)\n",
        "test['job_experience'].fillna(method = 'ffill', inplace = True)"
      ],
      "execution_count": null,
      "outputs": []
    },
    {
      "cell_type": "code",
      "metadata": {
        "id": "9nYjuerdn0Bo"
      },
      "source": [
        "data.dropna(inplace=True)\n",
        "test.fillna(method = 'ffill', inplace = True)"
      ],
      "execution_count": null,
      "outputs": []
    },
    {
      "cell_type": "code",
      "metadata": {
        "colab": {
          "base_uri": "https://localhost:8080/"
        },
        "id": "ZCpdPqqCF0FU",
        "outputId": "d0f14278-acf1-4be5-b420-686e31af1dfc"
      },
      "source": [
        "print(data.isna().sum().sum(), test.isna().sum().sum())"
      ],
      "execution_count": null,
      "outputs": [
        {
          "output_type": "stream",
          "text": [
            "0 0\n"
          ],
          "name": "stdout"
        }
      ]
    },
    {
      "cell_type": "code",
      "metadata": {
        "id": "V7hmJ_SZvqUh",
        "colab": {
          "base_uri": "https://localhost:8080/"
        },
        "outputId": "e3b287c2-3f20-4e26-cfc1-cddcc9470370"
      },
      "source": [
        "data.corrwith(data.default)"
      ],
      "execution_count": null,
      "outputs": [
        {
          "output_type": "execute_result",
          "data": {
            "text/plain": [
              "loan_amnt               -0.093641\n",
              "loan_term               -0.130854\n",
              "interest_rate           -0.000167\n",
              "job_experience          -0.029987\n",
              "annual_income           -0.003020\n",
              "debt_to_income          -0.132733\n",
              "delinq_2yrs             -0.040749\n",
              "public_records          -0.050409\n",
              "revolving_balance       -0.033974\n",
              "total_acc                0.000561\n",
              "interest_receive         0.041382\n",
              "last_week_pay            0.266158\n",
              "total_current_balance   -0.001822\n",
              "total_revolving_limit   -0.009536\n",
              "default                  1.000000\n",
              "dtype: float64"
            ]
          },
          "metadata": {
            "tags": []
          },
          "execution_count": 46
        }
      ]
    },
    {
      "cell_type": "code",
      "metadata": {
        "id": "6Kp8q0Juo0tA"
      },
      "source": [
        "le = LabelEncoder()"
      ],
      "execution_count": null,
      "outputs": []
    },
    {
      "cell_type": "code",
      "metadata": {
        "id": "f32wWoN7C24z"
      },
      "source": [
        "le.fit(data.loan_grade)\n",
        "data.loan_grade = le.transform(data.loan_grade)\n",
        "test.loan_grade = le.transform(test.loan_grade)"
      ],
      "execution_count": null,
      "outputs": []
    },
    {
      "cell_type": "code",
      "metadata": {
        "id": "uTDmBEcTFNU_"
      },
      "source": [
        "le.fit(data.loan_subgrade)\n",
        "data.loan_subgrade = le.transform(data.loan_subgrade)\n",
        "test.loan_subgrade = le.transform(test.loan_subgrade)"
      ],
      "execution_count": null,
      "outputs": []
    },
    {
      "cell_type": "code",
      "metadata": {
        "id": "CacrvBGxFNvd"
      },
      "source": [
        "le.fit(data.home_ownership)\n",
        "data.home_ownership = le.transform(data.home_ownership)\n",
        "test.home_ownership = le.transform(test.home_ownership)"
      ],
      "execution_count": null,
      "outputs": []
    },
    {
      "cell_type": "code",
      "metadata": {
        "id": "la9w2jT-FgJj"
      },
      "source": [
        "le.fit(data.loan_purpose)\n",
        "data.loan_purpose = le.transform(data.loan_purpose)\n",
        "test.loan_purpose = le.transform(test.loan_purpose)"
      ],
      "execution_count": null,
      "outputs": []
    },
    {
      "cell_type": "code",
      "metadata": {
        "id": "omyn27bDGs-T"
      },
      "source": [
        "le.fit(data.income_verification_status)\n",
        "data.income_verification_status = le.transform(data.income_verification_status)\n",
        "test.income_verification_status = le.transform(test.income_verification_status)"
      ],
      "execution_count": null,
      "outputs": []
    },
    {
      "cell_type": "code",
      "metadata": {
        "colab": {
          "base_uri": "https://localhost:8080/",
          "height": 534
        },
        "id": "5jhxjMetf3H0",
        "outputId": "191b03f9-916f-4aee-803a-23c9863d25f1"
      },
      "source": [
        "data.head(15)"
      ],
      "execution_count": null,
      "outputs": [
        {
          "output_type": "execute_result",
          "data": {
            "text/html": [
              "<div>\n",
              "<style scoped>\n",
              "    .dataframe tbody tr th:only-of-type {\n",
              "        vertical-align: middle;\n",
              "    }\n",
              "\n",
              "    .dataframe tbody tr th {\n",
              "        vertical-align: top;\n",
              "    }\n",
              "\n",
              "    .dataframe thead th {\n",
              "        text-align: right;\n",
              "    }\n",
              "</style>\n",
              "<table border=\"1\" class=\"dataframe\">\n",
              "  <thead>\n",
              "    <tr style=\"text-align: right;\">\n",
              "      <th></th>\n",
              "      <th>loan_amnt</th>\n",
              "      <th>loan_term</th>\n",
              "      <th>interest_rate</th>\n",
              "      <th>loan_grade</th>\n",
              "      <th>loan_subgrade</th>\n",
              "      <th>job_experience</th>\n",
              "      <th>home_ownership</th>\n",
              "      <th>annual_income</th>\n",
              "      <th>income_verification_status</th>\n",
              "      <th>loan_purpose</th>\n",
              "      <th>debt_to_income</th>\n",
              "      <th>delinq_2yrs</th>\n",
              "      <th>public_records</th>\n",
              "      <th>revolving_balance</th>\n",
              "      <th>total_acc</th>\n",
              "      <th>interest_receive</th>\n",
              "      <th>last_week_pay</th>\n",
              "      <th>total_current_balance</th>\n",
              "      <th>total_revolving_limit</th>\n",
              "      <th>default</th>\n",
              "    </tr>\n",
              "  </thead>\n",
              "  <tbody>\n",
              "    <tr>\n",
              "      <th>0</th>\n",
              "      <td>9000</td>\n",
              "      <td>3</td>\n",
              "      <td>9.17</td>\n",
              "      <td>1</td>\n",
              "      <td>6</td>\n",
              "      <td>2.5</td>\n",
              "      <td>3</td>\n",
              "      <td>85000.0</td>\n",
              "      <td>0</td>\n",
              "      <td>1</td>\n",
              "      <td>26.68</td>\n",
              "      <td>0.0</td>\n",
              "      <td>0.0</td>\n",
              "      <td>39519</td>\n",
              "      <td>20.0</td>\n",
              "      <td>59.60</td>\n",
              "      <td>4.0</td>\n",
              "      <td>95493.0</td>\n",
              "      <td>84100.0</td>\n",
              "      <td>0</td>\n",
              "    </tr>\n",
              "    <tr>\n",
              "      <th>1</th>\n",
              "      <td>18000</td>\n",
              "      <td>3</td>\n",
              "      <td>13.65</td>\n",
              "      <td>2</td>\n",
              "      <td>10</td>\n",
              "      <td>2.5</td>\n",
              "      <td>3</td>\n",
              "      <td>64000.0</td>\n",
              "      <td>2</td>\n",
              "      <td>1</td>\n",
              "      <td>31.67</td>\n",
              "      <td>0.0</td>\n",
              "      <td>1.0</td>\n",
              "      <td>9783</td>\n",
              "      <td>24.0</td>\n",
              "      <td>3348.25</td>\n",
              "      <td>95.0</td>\n",
              "      <td>185433.0</td>\n",
              "      <td>13500.0</td>\n",
              "      <td>0</td>\n",
              "    </tr>\n",
              "    <tr>\n",
              "      <th>2</th>\n",
              "      <td>16000</td>\n",
              "      <td>3</td>\n",
              "      <td>7.26</td>\n",
              "      <td>0</td>\n",
              "      <td>3</td>\n",
              "      <td>2.5</td>\n",
              "      <td>0</td>\n",
              "      <td>150000.0</td>\n",
              "      <td>1</td>\n",
              "      <td>1</td>\n",
              "      <td>19.70</td>\n",
              "      <td>2.0</td>\n",
              "      <td>0.0</td>\n",
              "      <td>13641</td>\n",
              "      <td>27.0</td>\n",
              "      <td>276.69</td>\n",
              "      <td>13.0</td>\n",
              "      <td>180519.0</td>\n",
              "      <td>19300.0</td>\n",
              "      <td>0</td>\n",
              "    </tr>\n",
              "    <tr>\n",
              "      <th>3</th>\n",
              "      <td>25000</td>\n",
              "      <td>3</td>\n",
              "      <td>13.99</td>\n",
              "      <td>2</td>\n",
              "      <td>13</td>\n",
              "      <td>2.5</td>\n",
              "      <td>0</td>\n",
              "      <td>59800.0</td>\n",
              "      <td>2</td>\n",
              "      <td>1</td>\n",
              "      <td>37.39</td>\n",
              "      <td>0.0</td>\n",
              "      <td>0.0</td>\n",
              "      <td>35020</td>\n",
              "      <td>35.0</td>\n",
              "      <td>1106.72</td>\n",
              "      <td>17.0</td>\n",
              "      <td>183208.0</td>\n",
              "      <td>55400.0</td>\n",
              "      <td>0</td>\n",
              "    </tr>\n",
              "    <tr>\n",
              "      <th>4</th>\n",
              "      <td>17000</td>\n",
              "      <td>3</td>\n",
              "      <td>6.39</td>\n",
              "      <td>0</td>\n",
              "      <td>1</td>\n",
              "      <td>12.5</td>\n",
              "      <td>0</td>\n",
              "      <td>72000.0</td>\n",
              "      <td>1</td>\n",
              "      <td>0</td>\n",
              "      <td>8.92</td>\n",
              "      <td>0.0</td>\n",
              "      <td>0.0</td>\n",
              "      <td>23990</td>\n",
              "      <td>26.0</td>\n",
              "      <td>725.29</td>\n",
              "      <td>39.0</td>\n",
              "      <td>23990.0</td>\n",
              "      <td>81300.0</td>\n",
              "      <td>0</td>\n",
              "    </tr>\n",
              "    <tr>\n",
              "      <th>5</th>\n",
              "      <td>10000</td>\n",
              "      <td>3</td>\n",
              "      <td>12.69</td>\n",
              "      <td>2</td>\n",
              "      <td>11</td>\n",
              "      <td>2.5</td>\n",
              "      <td>3</td>\n",
              "      <td>56000.0</td>\n",
              "      <td>0</td>\n",
              "      <td>1</td>\n",
              "      <td>16.16</td>\n",
              "      <td>0.0</td>\n",
              "      <td>1.0</td>\n",
              "      <td>6643</td>\n",
              "      <td>48.0</td>\n",
              "      <td>590.50</td>\n",
              "      <td>26.0</td>\n",
              "      <td>24054.0</td>\n",
              "      <td>25167.0</td>\n",
              "      <td>0</td>\n",
              "    </tr>\n",
              "    <tr>\n",
              "      <th>6</th>\n",
              "      <td>15000</td>\n",
              "      <td>3</td>\n",
              "      <td>11.14</td>\n",
              "      <td>1</td>\n",
              "      <td>6</td>\n",
              "      <td>12.5</td>\n",
              "      <td>4</td>\n",
              "      <td>100000.0</td>\n",
              "      <td>0</td>\n",
              "      <td>1</td>\n",
              "      <td>10.51</td>\n",
              "      <td>0.0</td>\n",
              "      <td>1.0</td>\n",
              "      <td>14088</td>\n",
              "      <td>14.0</td>\n",
              "      <td>1020.57</td>\n",
              "      <td>35.0</td>\n",
              "      <td>14519.0</td>\n",
              "      <td>15200.0</td>\n",
              "      <td>1</td>\n",
              "    </tr>\n",
              "    <tr>\n",
              "      <th>7</th>\n",
              "      <td>10000</td>\n",
              "      <td>3</td>\n",
              "      <td>6.49</td>\n",
              "      <td>0</td>\n",
              "      <td>1</td>\n",
              "      <td>12.5</td>\n",
              "      <td>0</td>\n",
              "      <td>109000.0</td>\n",
              "      <td>0</td>\n",
              "      <td>0</td>\n",
              "      <td>10.84</td>\n",
              "      <td>1.0</td>\n",
              "      <td>0.0</td>\n",
              "      <td>12337</td>\n",
              "      <td>26.0</td>\n",
              "      <td>728.68</td>\n",
              "      <td>74.0</td>\n",
              "      <td>210751.0</td>\n",
              "      <td>18600.0</td>\n",
              "      <td>0</td>\n",
              "    </tr>\n",
              "    <tr>\n",
              "      <th>8</th>\n",
              "      <td>12000</td>\n",
              "      <td>3</td>\n",
              "      <td>10.99</td>\n",
              "      <td>1</td>\n",
              "      <td>8</td>\n",
              "      <td>2.5</td>\n",
              "      <td>4</td>\n",
              "      <td>45000.0</td>\n",
              "      <td>2</td>\n",
              "      <td>0</td>\n",
              "      <td>8.21</td>\n",
              "      <td>0.0</td>\n",
              "      <td>0.0</td>\n",
              "      <td>10550</td>\n",
              "      <td>12.0</td>\n",
              "      <td>879.15</td>\n",
              "      <td>39.0</td>\n",
              "      <td>10550.0</td>\n",
              "      <td>22000.0</td>\n",
              "      <td>0</td>\n",
              "    </tr>\n",
              "    <tr>\n",
              "      <th>9</th>\n",
              "      <td>7000</td>\n",
              "      <td>3</td>\n",
              "      <td>12.49</td>\n",
              "      <td>1</td>\n",
              "      <td>8</td>\n",
              "      <td>2.5</td>\n",
              "      <td>0</td>\n",
              "      <td>53000.0</td>\n",
              "      <td>0</td>\n",
              "      <td>1</td>\n",
              "      <td>18.84</td>\n",
              "      <td>0.0</td>\n",
              "      <td>0.0</td>\n",
              "      <td>12108</td>\n",
              "      <td>20.0</td>\n",
              "      <td>1186.80</td>\n",
              "      <td>96.0</td>\n",
              "      <td>145801.0</td>\n",
              "      <td>16800.0</td>\n",
              "      <td>0</td>\n",
              "    </tr>\n",
              "    <tr>\n",
              "      <th>10</th>\n",
              "      <td>30000</td>\n",
              "      <td>3</td>\n",
              "      <td>13.99</td>\n",
              "      <td>2</td>\n",
              "      <td>13</td>\n",
              "      <td>2.5</td>\n",
              "      <td>0</td>\n",
              "      <td>80000.0</td>\n",
              "      <td>1</td>\n",
              "      <td>0</td>\n",
              "      <td>35.25</td>\n",
              "      <td>2.0</td>\n",
              "      <td>0.0</td>\n",
              "      <td>29489</td>\n",
              "      <td>26.0</td>\n",
              "      <td>0.00</td>\n",
              "      <td>48.0</td>\n",
              "      <td>152259.0</td>\n",
              "      <td>87400.0</td>\n",
              "      <td>0</td>\n",
              "    </tr>\n",
              "    <tr>\n",
              "      <th>11</th>\n",
              "      <td>20000</td>\n",
              "      <td>3</td>\n",
              "      <td>12.29</td>\n",
              "      <td>2</td>\n",
              "      <td>10</td>\n",
              "      <td>2.5</td>\n",
              "      <td>4</td>\n",
              "      <td>55000.0</td>\n",
              "      <td>2</td>\n",
              "      <td>1</td>\n",
              "      <td>15.47</td>\n",
              "      <td>0.0</td>\n",
              "      <td>0.0</td>\n",
              "      <td>10287</td>\n",
              "      <td>8.0</td>\n",
              "      <td>763.43</td>\n",
              "      <td>17.0</td>\n",
              "      <td>22359.0</td>\n",
              "      <td>21200.0</td>\n",
              "      <td>0</td>\n",
              "    </tr>\n",
              "    <tr>\n",
              "      <th>12</th>\n",
              "      <td>28000</td>\n",
              "      <td>3</td>\n",
              "      <td>8.19</td>\n",
              "      <td>0</td>\n",
              "      <td>4</td>\n",
              "      <td>2.5</td>\n",
              "      <td>0</td>\n",
              "      <td>100000.0</td>\n",
              "      <td>2</td>\n",
              "      <td>0</td>\n",
              "      <td>28.41</td>\n",
              "      <td>0.0</td>\n",
              "      <td>0.0</td>\n",
              "      <td>35522</td>\n",
              "      <td>28.0</td>\n",
              "      <td>1963.03</td>\n",
              "      <td>57.0</td>\n",
              "      <td>287228.0</td>\n",
              "      <td>81000.0</td>\n",
              "      <td>0</td>\n",
              "    </tr>\n",
              "    <tr>\n",
              "      <th>13</th>\n",
              "      <td>35000</td>\n",
              "      <td>3</td>\n",
              "      <td>20.50</td>\n",
              "      <td>4</td>\n",
              "      <td>21</td>\n",
              "      <td>2.5</td>\n",
              "      <td>4</td>\n",
              "      <td>75000.0</td>\n",
              "      <td>2</td>\n",
              "      <td>1</td>\n",
              "      <td>4.44</td>\n",
              "      <td>1.0</td>\n",
              "      <td>0.0</td>\n",
              "      <td>9993</td>\n",
              "      <td>18.0</td>\n",
              "      <td>5398.08</td>\n",
              "      <td>44.0</td>\n",
              "      <td>110000.0</td>\n",
              "      <td>32000.0</td>\n",
              "      <td>1</td>\n",
              "    </tr>\n",
              "    <tr>\n",
              "      <th>14</th>\n",
              "      <td>5750</td>\n",
              "      <td>3</td>\n",
              "      <td>12.29</td>\n",
              "      <td>2</td>\n",
              "      <td>10</td>\n",
              "      <td>2.5</td>\n",
              "      <td>0</td>\n",
              "      <td>20000.0</td>\n",
              "      <td>1</td>\n",
              "      <td>3</td>\n",
              "      <td>24.61</td>\n",
              "      <td>0.0</td>\n",
              "      <td>1.0</td>\n",
              "      <td>2676</td>\n",
              "      <td>14.0</td>\n",
              "      <td>475.89</td>\n",
              "      <td>39.0</td>\n",
              "      <td>18004.0</td>\n",
              "      <td>11700.0</td>\n",
              "      <td>0</td>\n",
              "    </tr>\n",
              "  </tbody>\n",
              "</table>\n",
              "</div>"
            ],
            "text/plain": [
              "    loan_amnt  loan_term  ...  total_revolving_limit  default\n",
              "0        9000          3  ...                84100.0        0\n",
              "1       18000          3  ...                13500.0        0\n",
              "2       16000          3  ...                19300.0        0\n",
              "3       25000          3  ...                55400.0        0\n",
              "4       17000          3  ...                81300.0        0\n",
              "5       10000          3  ...                25167.0        0\n",
              "6       15000          3  ...                15200.0        1\n",
              "7       10000          3  ...                18600.0        0\n",
              "8       12000          3  ...                22000.0        0\n",
              "9        7000          3  ...                16800.0        0\n",
              "10      30000          3  ...                87400.0        0\n",
              "11      20000          3  ...                21200.0        0\n",
              "12      28000          3  ...                81000.0        0\n",
              "13      35000          3  ...                32000.0        1\n",
              "14       5750          3  ...                11700.0        0\n",
              "\n",
              "[15 rows x 20 columns]"
            ]
          },
          "metadata": {
            "tags": []
          },
          "execution_count": 53
        }
      ]
    },
    {
      "cell_type": "code",
      "metadata": {
        "id": "t2gB0PKzLoXX"
      },
      "source": [
        "def transform(a, b):\n",
        "  mi = min(a)\n",
        "  ma = max(a)\n",
        "\n",
        "  for i in range(len(a)):\n",
        "    a.iloc[i] = (a.iloc[i] - mi)/(ma - mi)\n",
        "\n",
        "  for i in range(len(b)):\n",
        "    b.iloc[i] = (b.iloc[i] - mi)/(ma - mi)\n",
        "\n",
        "  return a, b;"
      ],
      "execution_count": null,
      "outputs": []
    },
    {
      "cell_type": "code",
      "metadata": {
        "colab": {
          "base_uri": "https://localhost:8080/"
        },
        "id": "GmLTOYlaC-DD",
        "outputId": "c022c59b-4c98-44ec-ce84-3873009507ad"
      },
      "source": [
        "data.loan_amnt, test.loan_amnt = transform(data.loan_amnt, test.loan_amnt)\n",
        "data.interest_rate, test.interest_rate = transform(data.interest_rate, test.interest_rate)\n",
        "data.annual_income, test.annual_income = transform(data.annual_income, test.annual_income)\n",
        "data.revolving_balance, test.revolving_balance = transform(data.revolving_balance, test.revolving_balance)\n",
        "data.total_acc, test.total_acc = transform(data.total_acc, test.total_acc)\n",
        "data.interest_receive, test.interest_receive = transform(data.interest_receive, test.interest_receive)\n",
        "data.last_week_pay, test.last_week_pay = transform(data.last_week_pay, test.last_week_pay)\n",
        "data.total_current_balance, test.total_current_balance = transform(data.total_current_balance, test.total_current_balance)\n",
        "data.total_revolving_limit, test.total_revolving_limit = transform(data.total_revolving_limit, test.total_revolving_limit)"
      ],
      "execution_count": null,
      "outputs": [
        {
          "output_type": "stream",
          "text": [
            "/usr/local/lib/python3.7/dist-packages/pandas/core/indexing.py:670: SettingWithCopyWarning: \n",
            "A value is trying to be set on a copy of a slice from a DataFrame\n",
            "\n",
            "See the caveats in the documentation: https://pandas.pydata.org/pandas-docs/stable/user_guide/indexing.html#returning-a-view-versus-a-copy\n",
            "  iloc._setitem_with_indexer(indexer, value)\n"
          ],
          "name": "stderr"
        }
      ]
    },
    {
      "cell_type": "code",
      "metadata": {
        "colab": {
          "base_uri": "https://localhost:8080/",
          "height": 534
        },
        "id": "UDW-AKk4EdPd",
        "outputId": "c158e903-4f16-444d-df5a-c866b0b26b7d"
      },
      "source": [
        "data.head(15)"
      ],
      "execution_count": null,
      "outputs": [
        {
          "output_type": "execute_result",
          "data": {
            "text/html": [
              "<div>\n",
              "<style scoped>\n",
              "    .dataframe tbody tr th:only-of-type {\n",
              "        vertical-align: middle;\n",
              "    }\n",
              "\n",
              "    .dataframe tbody tr th {\n",
              "        vertical-align: top;\n",
              "    }\n",
              "\n",
              "    .dataframe thead th {\n",
              "        text-align: right;\n",
              "    }\n",
              "</style>\n",
              "<table border=\"1\" class=\"dataframe\">\n",
              "  <thead>\n",
              "    <tr style=\"text-align: right;\">\n",
              "      <th></th>\n",
              "      <th>loan_amnt</th>\n",
              "      <th>loan_term</th>\n",
              "      <th>interest_rate</th>\n",
              "      <th>loan_grade</th>\n",
              "      <th>loan_subgrade</th>\n",
              "      <th>job_experience</th>\n",
              "      <th>home_ownership</th>\n",
              "      <th>annual_income</th>\n",
              "      <th>income_verification_status</th>\n",
              "      <th>loan_purpose</th>\n",
              "      <th>debt_to_income</th>\n",
              "      <th>delinq_2yrs</th>\n",
              "      <th>public_records</th>\n",
              "      <th>revolving_balance</th>\n",
              "      <th>total_acc</th>\n",
              "      <th>interest_receive</th>\n",
              "      <th>last_week_pay</th>\n",
              "      <th>total_current_balance</th>\n",
              "      <th>total_revolving_limit</th>\n",
              "      <th>default</th>\n",
              "    </tr>\n",
              "  </thead>\n",
              "  <tbody>\n",
              "    <tr>\n",
              "      <th>0</th>\n",
              "      <td>0.246377</td>\n",
              "      <td>3</td>\n",
              "      <td>0.162653</td>\n",
              "      <td>1</td>\n",
              "      <td>6</td>\n",
              "      <td>2.5</td>\n",
              "      <td>3</td>\n",
              "      <td>0.008822</td>\n",
              "      <td>0</td>\n",
              "      <td>1</td>\n",
              "      <td>26.68</td>\n",
              "      <td>0.0</td>\n",
              "      <td>0.0</td>\n",
              "      <td>0.015433</td>\n",
              "      <td>0.161017</td>\n",
              "      <td>0.002572</td>\n",
              "      <td>0.013746</td>\n",
              "      <td>0.011937</td>\n",
              "      <td>0.008410</td>\n",
              "      <td>0</td>\n",
              "    </tr>\n",
              "    <tr>\n",
              "      <th>1</th>\n",
              "      <td>0.507246</td>\n",
              "      <td>3</td>\n",
              "      <td>0.351922</td>\n",
              "      <td>2</td>\n",
              "      <td>10</td>\n",
              "      <td>2.5</td>\n",
              "      <td>3</td>\n",
              "      <td>0.006611</td>\n",
              "      <td>2</td>\n",
              "      <td>1</td>\n",
              "      <td>31.67</td>\n",
              "      <td>0.0</td>\n",
              "      <td>1.0</td>\n",
              "      <td>0.003820</td>\n",
              "      <td>0.194915</td>\n",
              "      <td>0.144494</td>\n",
              "      <td>0.326460</td>\n",
              "      <td>0.023179</td>\n",
              "      <td>0.001350</td>\n",
              "      <td>0</td>\n",
              "    </tr>\n",
              "    <tr>\n",
              "      <th>2</th>\n",
              "      <td>0.449275</td>\n",
              "      <td>3</td>\n",
              "      <td>0.081960</td>\n",
              "      <td>0</td>\n",
              "      <td>3</td>\n",
              "      <td>2.5</td>\n",
              "      <td>0</td>\n",
              "      <td>0.015665</td>\n",
              "      <td>1</td>\n",
              "      <td>1</td>\n",
              "      <td>19.70</td>\n",
              "      <td>2.0</td>\n",
              "      <td>0.0</td>\n",
              "      <td>0.005327</td>\n",
              "      <td>0.220339</td>\n",
              "      <td>0.011941</td>\n",
              "      <td>0.044674</td>\n",
              "      <td>0.022565</td>\n",
              "      <td>0.001930</td>\n",
              "      <td>0</td>\n",
              "    </tr>\n",
              "    <tr>\n",
              "      <th>3</th>\n",
              "      <td>0.710145</td>\n",
              "      <td>3</td>\n",
              "      <td>0.366286</td>\n",
              "      <td>2</td>\n",
              "      <td>13</td>\n",
              "      <td>2.5</td>\n",
              "      <td>0</td>\n",
              "      <td>0.006169</td>\n",
              "      <td>2</td>\n",
              "      <td>1</td>\n",
              "      <td>37.39</td>\n",
              "      <td>0.0</td>\n",
              "      <td>0.0</td>\n",
              "      <td>0.013676</td>\n",
              "      <td>0.288136</td>\n",
              "      <td>0.047760</td>\n",
              "      <td>0.058419</td>\n",
              "      <td>0.022901</td>\n",
              "      <td>0.005540</td>\n",
              "      <td>0</td>\n",
              "    </tr>\n",
              "    <tr>\n",
              "      <th>4</th>\n",
              "      <td>0.478261</td>\n",
              "      <td>3</td>\n",
              "      <td>0.045205</td>\n",
              "      <td>0</td>\n",
              "      <td>1</td>\n",
              "      <td>12.5</td>\n",
              "      <td>0</td>\n",
              "      <td>0.007454</td>\n",
              "      <td>1</td>\n",
              "      <td>0</td>\n",
              "      <td>8.92</td>\n",
              "      <td>0.0</td>\n",
              "      <td>0.0</td>\n",
              "      <td>0.009369</td>\n",
              "      <td>0.211864</td>\n",
              "      <td>0.031300</td>\n",
              "      <td>0.134021</td>\n",
              "      <td>0.002999</td>\n",
              "      <td>0.008130</td>\n",
              "      <td>0</td>\n",
              "    </tr>\n",
              "    <tr>\n",
              "      <th>5</th>\n",
              "      <td>0.275362</td>\n",
              "      <td>3</td>\n",
              "      <td>0.311365</td>\n",
              "      <td>2</td>\n",
              "      <td>11</td>\n",
              "      <td>2.5</td>\n",
              "      <td>3</td>\n",
              "      <td>0.005769</td>\n",
              "      <td>0</td>\n",
              "      <td>1</td>\n",
              "      <td>16.16</td>\n",
              "      <td>0.0</td>\n",
              "      <td>1.0</td>\n",
              "      <td>0.002594</td>\n",
              "      <td>0.398305</td>\n",
              "      <td>0.025483</td>\n",
              "      <td>0.089347</td>\n",
              "      <td>0.003007</td>\n",
              "      <td>0.002517</td>\n",
              "      <td>0</td>\n",
              "    </tr>\n",
              "    <tr>\n",
              "      <th>6</th>\n",
              "      <td>0.420290</td>\n",
              "      <td>3</td>\n",
              "      <td>0.245881</td>\n",
              "      <td>1</td>\n",
              "      <td>6</td>\n",
              "      <td>12.5</td>\n",
              "      <td>4</td>\n",
              "      <td>0.010401</td>\n",
              "      <td>0</td>\n",
              "      <td>1</td>\n",
              "      <td>10.51</td>\n",
              "      <td>0.0</td>\n",
              "      <td>1.0</td>\n",
              "      <td>0.005502</td>\n",
              "      <td>0.110169</td>\n",
              "      <td>0.044043</td>\n",
              "      <td>0.120275</td>\n",
              "      <td>0.001815</td>\n",
              "      <td>0.001520</td>\n",
              "      <td>1</td>\n",
              "    </tr>\n",
              "    <tr>\n",
              "      <th>7</th>\n",
              "      <td>0.275362</td>\n",
              "      <td>3</td>\n",
              "      <td>0.049430</td>\n",
              "      <td>0</td>\n",
              "      <td>1</td>\n",
              "      <td>12.5</td>\n",
              "      <td>0</td>\n",
              "      <td>0.011349</td>\n",
              "      <td>0</td>\n",
              "      <td>0</td>\n",
              "      <td>10.84</td>\n",
              "      <td>1.0</td>\n",
              "      <td>0.0</td>\n",
              "      <td>0.004818</td>\n",
              "      <td>0.211864</td>\n",
              "      <td>0.031446</td>\n",
              "      <td>0.254296</td>\n",
              "      <td>0.026344</td>\n",
              "      <td>0.001860</td>\n",
              "      <td>0</td>\n",
              "    </tr>\n",
              "    <tr>\n",
              "      <th>8</th>\n",
              "      <td>0.333333</td>\n",
              "      <td>3</td>\n",
              "      <td>0.239544</td>\n",
              "      <td>1</td>\n",
              "      <td>8</td>\n",
              "      <td>2.5</td>\n",
              "      <td>4</td>\n",
              "      <td>0.004611</td>\n",
              "      <td>2</td>\n",
              "      <td>0</td>\n",
              "      <td>8.21</td>\n",
              "      <td>0.0</td>\n",
              "      <td>0.0</td>\n",
              "      <td>0.004120</td>\n",
              "      <td>0.093220</td>\n",
              "      <td>0.037940</td>\n",
              "      <td>0.134021</td>\n",
              "      <td>0.001319</td>\n",
              "      <td>0.002200</td>\n",
              "      <td>0</td>\n",
              "    </tr>\n",
              "    <tr>\n",
              "      <th>9</th>\n",
              "      <td>0.188406</td>\n",
              "      <td>3</td>\n",
              "      <td>0.302915</td>\n",
              "      <td>1</td>\n",
              "      <td>8</td>\n",
              "      <td>2.5</td>\n",
              "      <td>0</td>\n",
              "      <td>0.005453</td>\n",
              "      <td>0</td>\n",
              "      <td>1</td>\n",
              "      <td>18.84</td>\n",
              "      <td>0.0</td>\n",
              "      <td>0.0</td>\n",
              "      <td>0.004728</td>\n",
              "      <td>0.161017</td>\n",
              "      <td>0.051216</td>\n",
              "      <td>0.329897</td>\n",
              "      <td>0.018225</td>\n",
              "      <td>0.001680</td>\n",
              "      <td>0</td>\n",
              "    </tr>\n",
              "    <tr>\n",
              "      <th>10</th>\n",
              "      <td>0.855072</td>\n",
              "      <td>3</td>\n",
              "      <td>0.366286</td>\n",
              "      <td>2</td>\n",
              "      <td>13</td>\n",
              "      <td>2.5</td>\n",
              "      <td>0</td>\n",
              "      <td>0.008296</td>\n",
              "      <td>1</td>\n",
              "      <td>0</td>\n",
              "      <td>35.25</td>\n",
              "      <td>2.0</td>\n",
              "      <td>0.0</td>\n",
              "      <td>0.011516</td>\n",
              "      <td>0.211864</td>\n",
              "      <td>0.000000</td>\n",
              "      <td>0.164948</td>\n",
              "      <td>0.019032</td>\n",
              "      <td>0.008740</td>\n",
              "      <td>0</td>\n",
              "    </tr>\n",
              "    <tr>\n",
              "      <th>11</th>\n",
              "      <td>0.565217</td>\n",
              "      <td>3</td>\n",
              "      <td>0.294466</td>\n",
              "      <td>2</td>\n",
              "      <td>10</td>\n",
              "      <td>2.5</td>\n",
              "      <td>4</td>\n",
              "      <td>0.005664</td>\n",
              "      <td>2</td>\n",
              "      <td>1</td>\n",
              "      <td>15.47</td>\n",
              "      <td>0.0</td>\n",
              "      <td>0.0</td>\n",
              "      <td>0.004017</td>\n",
              "      <td>0.059322</td>\n",
              "      <td>0.032946</td>\n",
              "      <td>0.058419</td>\n",
              "      <td>0.002795</td>\n",
              "      <td>0.002120</td>\n",
              "      <td>0</td>\n",
              "    </tr>\n",
              "    <tr>\n",
              "      <th>12</th>\n",
              "      <td>0.797101</td>\n",
              "      <td>3</td>\n",
              "      <td>0.121251</td>\n",
              "      <td>0</td>\n",
              "      <td>4</td>\n",
              "      <td>2.5</td>\n",
              "      <td>0</td>\n",
              "      <td>0.010401</td>\n",
              "      <td>2</td>\n",
              "      <td>0</td>\n",
              "      <td>28.41</td>\n",
              "      <td>0.0</td>\n",
              "      <td>0.0</td>\n",
              "      <td>0.013872</td>\n",
              "      <td>0.228814</td>\n",
              "      <td>0.084714</td>\n",
              "      <td>0.195876</td>\n",
              "      <td>0.035903</td>\n",
              "      <td>0.008100</td>\n",
              "      <td>0</td>\n",
              "    </tr>\n",
              "    <tr>\n",
              "      <th>13</th>\n",
              "      <td>1.000000</td>\n",
              "      <td>3</td>\n",
              "      <td>0.641318</td>\n",
              "      <td>4</td>\n",
              "      <td>21</td>\n",
              "      <td>2.5</td>\n",
              "      <td>4</td>\n",
              "      <td>0.007769</td>\n",
              "      <td>2</td>\n",
              "      <td>1</td>\n",
              "      <td>4.44</td>\n",
              "      <td>1.0</td>\n",
              "      <td>0.0</td>\n",
              "      <td>0.003902</td>\n",
              "      <td>0.144068</td>\n",
              "      <td>0.232954</td>\n",
              "      <td>0.151203</td>\n",
              "      <td>0.013750</td>\n",
              "      <td>0.003200</td>\n",
              "      <td>1</td>\n",
              "    </tr>\n",
              "    <tr>\n",
              "      <th>14</th>\n",
              "      <td>0.152174</td>\n",
              "      <td>3</td>\n",
              "      <td>0.294466</td>\n",
              "      <td>2</td>\n",
              "      <td>10</td>\n",
              "      <td>2.5</td>\n",
              "      <td>0</td>\n",
              "      <td>0.001979</td>\n",
              "      <td>1</td>\n",
              "      <td>3</td>\n",
              "      <td>24.61</td>\n",
              "      <td>0.0</td>\n",
              "      <td>1.0</td>\n",
              "      <td>0.001045</td>\n",
              "      <td>0.110169</td>\n",
              "      <td>0.020537</td>\n",
              "      <td>0.134021</td>\n",
              "      <td>0.002250</td>\n",
              "      <td>0.001170</td>\n",
              "      <td>0</td>\n",
              "    </tr>\n",
              "  </tbody>\n",
              "</table>\n",
              "</div>"
            ],
            "text/plain": [
              "    loan_amnt  loan_term  ...  total_revolving_limit  default\n",
              "0    0.246377          3  ...               0.008410        0\n",
              "1    0.507246          3  ...               0.001350        0\n",
              "2    0.449275          3  ...               0.001930        0\n",
              "3    0.710145          3  ...               0.005540        0\n",
              "4    0.478261          3  ...               0.008130        0\n",
              "5    0.275362          3  ...               0.002517        0\n",
              "6    0.420290          3  ...               0.001520        1\n",
              "7    0.275362          3  ...               0.001860        0\n",
              "8    0.333333          3  ...               0.002200        0\n",
              "9    0.188406          3  ...               0.001680        0\n",
              "10   0.855072          3  ...               0.008740        0\n",
              "11   0.565217          3  ...               0.002120        0\n",
              "12   0.797101          3  ...               0.008100        0\n",
              "13   1.000000          3  ...               0.003200        1\n",
              "14   0.152174          3  ...               0.001170        0\n",
              "\n",
              "[15 rows x 20 columns]"
            ]
          },
          "metadata": {
            "tags": []
          },
          "execution_count": 56
        }
      ]
    },
    {
      "cell_type": "code",
      "metadata": {
        "colab": {
          "base_uri": "https://localhost:8080/",
          "height": 561
        },
        "id": "OgOVD1IEGGW0",
        "outputId": "3531d079-20c9-4604-9cdd-f9ca9a71e35e"
      },
      "source": [
        "def categorical_transform(a, array):\n",
        "  sub_array = to_categorical(a)\n",
        "  if len(array) == 0:\n",
        "    array = sub_array\n",
        "  else: \n",
        "    array = np.append(array, sub_array, axis = 1)\n",
        "  return array\n",
        "\n",
        "categorical_list = ['loan_term', 'loan_grade', 'loan_subgrade', 'job_experience', 'home_ownership', 'loan_purpose', 'income_verification_status']\n",
        "\n",
        "data_train = []\n",
        "data_test = []\n",
        "for item in categorical_list:\n",
        "  data_train = categorical_transform(data[item], data_train)\n",
        "  data_test = categorical_transform(test[item], data_test)\n",
        "  data.drop([item], axis = 1, inplace = True)\n",
        "  test.drop([item], axis = 1, inplace = True)\n",
        "\n",
        "data_train = np.array(data_train)\n",
        "data_test = np.array(data_test)"
      ],
      "execution_count": null,
      "outputs": [
        {
          "output_type": "error",
          "ename": "KeyError",
          "evalue": "ignored",
          "traceback": [
            "\u001b[0;31m---------------------------------------------------------------------------\u001b[0m",
            "\u001b[0;31mKeyError\u001b[0m                                  Traceback (most recent call last)",
            "\u001b[0;32m/usr/local/lib/python3.7/dist-packages/pandas/core/indexes/base.py\u001b[0m in \u001b[0;36mget_loc\u001b[0;34m(self, key, method, tolerance)\u001b[0m\n\u001b[1;32m   2897\u001b[0m             \u001b[0;32mtry\u001b[0m\u001b[0;34m:\u001b[0m\u001b[0;34m\u001b[0m\u001b[0;34m\u001b[0m\u001b[0m\n\u001b[0;32m-> 2898\u001b[0;31m                 \u001b[0;32mreturn\u001b[0m \u001b[0mself\u001b[0m\u001b[0;34m.\u001b[0m\u001b[0m_engine\u001b[0m\u001b[0;34m.\u001b[0m\u001b[0mget_loc\u001b[0m\u001b[0;34m(\u001b[0m\u001b[0mcasted_key\u001b[0m\u001b[0;34m)\u001b[0m\u001b[0;34m\u001b[0m\u001b[0;34m\u001b[0m\u001b[0m\n\u001b[0m\u001b[1;32m   2899\u001b[0m             \u001b[0;32mexcept\u001b[0m \u001b[0mKeyError\u001b[0m \u001b[0;32mas\u001b[0m \u001b[0merr\u001b[0m\u001b[0;34m:\u001b[0m\u001b[0;34m\u001b[0m\u001b[0;34m\u001b[0m\u001b[0m\n",
            "\u001b[0;32mpandas/_libs/index.pyx\u001b[0m in \u001b[0;36mpandas._libs.index.IndexEngine.get_loc\u001b[0;34m()\u001b[0m\n",
            "\u001b[0;32mpandas/_libs/index.pyx\u001b[0m in \u001b[0;36mpandas._libs.index.IndexEngine.get_loc\u001b[0;34m()\u001b[0m\n",
            "\u001b[0;32mpandas/_libs/hashtable_class_helper.pxi\u001b[0m in \u001b[0;36mpandas._libs.hashtable.PyObjectHashTable.get_item\u001b[0;34m()\u001b[0m\n",
            "\u001b[0;32mpandas/_libs/hashtable_class_helper.pxi\u001b[0m in \u001b[0;36mpandas._libs.hashtable.PyObjectHashTable.get_item\u001b[0;34m()\u001b[0m\n",
            "\u001b[0;31mKeyError\u001b[0m: 'loan_term'",
            "\nThe above exception was the direct cause of the following exception:\n",
            "\u001b[0;31mKeyError\u001b[0m                                  Traceback (most recent call last)",
            "\u001b[0;32m<ipython-input-64-965688e27eee>\u001b[0m in \u001b[0;36m<module>\u001b[0;34m()\u001b[0m\n\u001b[1;32m     13\u001b[0m \u001b[0mdata_test\u001b[0m \u001b[0;34m=\u001b[0m \u001b[0;34m[\u001b[0m\u001b[0;34m]\u001b[0m\u001b[0;34m\u001b[0m\u001b[0;34m\u001b[0m\u001b[0m\n\u001b[1;32m     14\u001b[0m \u001b[0;32mfor\u001b[0m \u001b[0mitem\u001b[0m \u001b[0;32min\u001b[0m \u001b[0mcategorical_list\u001b[0m\u001b[0;34m:\u001b[0m\u001b[0;34m\u001b[0m\u001b[0;34m\u001b[0m\u001b[0m\n\u001b[0;32m---> 15\u001b[0;31m   \u001b[0mdata_train\u001b[0m \u001b[0;34m=\u001b[0m \u001b[0mcategorical_transform\u001b[0m\u001b[0;34m(\u001b[0m\u001b[0mdata\u001b[0m\u001b[0;34m[\u001b[0m\u001b[0mitem\u001b[0m\u001b[0;34m]\u001b[0m\u001b[0;34m,\u001b[0m \u001b[0mdata_train\u001b[0m\u001b[0;34m)\u001b[0m\u001b[0;34m\u001b[0m\u001b[0;34m\u001b[0m\u001b[0m\n\u001b[0m\u001b[1;32m     16\u001b[0m   \u001b[0mdata_test\u001b[0m \u001b[0;34m=\u001b[0m \u001b[0mcategorical_transform\u001b[0m\u001b[0;34m(\u001b[0m\u001b[0mtest\u001b[0m\u001b[0;34m[\u001b[0m\u001b[0mitem\u001b[0m\u001b[0;34m]\u001b[0m\u001b[0;34m,\u001b[0m \u001b[0mdata_test\u001b[0m\u001b[0;34m)\u001b[0m\u001b[0;34m\u001b[0m\u001b[0;34m\u001b[0m\u001b[0m\n\u001b[1;32m     17\u001b[0m   \u001b[0mdata\u001b[0m\u001b[0;34m.\u001b[0m\u001b[0mdrop\u001b[0m\u001b[0;34m(\u001b[0m\u001b[0;34m[\u001b[0m\u001b[0mitem\u001b[0m\u001b[0;34m]\u001b[0m\u001b[0;34m,\u001b[0m \u001b[0maxis\u001b[0m \u001b[0;34m=\u001b[0m \u001b[0;36m1\u001b[0m\u001b[0;34m,\u001b[0m \u001b[0minplace\u001b[0m \u001b[0;34m=\u001b[0m \u001b[0;32mTrue\u001b[0m\u001b[0;34m)\u001b[0m\u001b[0;34m\u001b[0m\u001b[0;34m\u001b[0m\u001b[0m\n",
            "\u001b[0;32m/usr/local/lib/python3.7/dist-packages/pandas/core/frame.py\u001b[0m in \u001b[0;36m__getitem__\u001b[0;34m(self, key)\u001b[0m\n\u001b[1;32m   2904\u001b[0m             \u001b[0;32mif\u001b[0m \u001b[0mself\u001b[0m\u001b[0;34m.\u001b[0m\u001b[0mcolumns\u001b[0m\u001b[0;34m.\u001b[0m\u001b[0mnlevels\u001b[0m \u001b[0;34m>\u001b[0m \u001b[0;36m1\u001b[0m\u001b[0;34m:\u001b[0m\u001b[0;34m\u001b[0m\u001b[0;34m\u001b[0m\u001b[0m\n\u001b[1;32m   2905\u001b[0m                 \u001b[0;32mreturn\u001b[0m \u001b[0mself\u001b[0m\u001b[0;34m.\u001b[0m\u001b[0m_getitem_multilevel\u001b[0m\u001b[0;34m(\u001b[0m\u001b[0mkey\u001b[0m\u001b[0;34m)\u001b[0m\u001b[0;34m\u001b[0m\u001b[0;34m\u001b[0m\u001b[0m\n\u001b[0;32m-> 2906\u001b[0;31m             \u001b[0mindexer\u001b[0m \u001b[0;34m=\u001b[0m \u001b[0mself\u001b[0m\u001b[0;34m.\u001b[0m\u001b[0mcolumns\u001b[0m\u001b[0;34m.\u001b[0m\u001b[0mget_loc\u001b[0m\u001b[0;34m(\u001b[0m\u001b[0mkey\u001b[0m\u001b[0;34m)\u001b[0m\u001b[0;34m\u001b[0m\u001b[0;34m\u001b[0m\u001b[0m\n\u001b[0m\u001b[1;32m   2907\u001b[0m             \u001b[0;32mif\u001b[0m \u001b[0mis_integer\u001b[0m\u001b[0;34m(\u001b[0m\u001b[0mindexer\u001b[0m\u001b[0;34m)\u001b[0m\u001b[0;34m:\u001b[0m\u001b[0;34m\u001b[0m\u001b[0;34m\u001b[0m\u001b[0m\n\u001b[1;32m   2908\u001b[0m                 \u001b[0mindexer\u001b[0m \u001b[0;34m=\u001b[0m \u001b[0;34m[\u001b[0m\u001b[0mindexer\u001b[0m\u001b[0;34m]\u001b[0m\u001b[0;34m\u001b[0m\u001b[0;34m\u001b[0m\u001b[0m\n",
            "\u001b[0;32m/usr/local/lib/python3.7/dist-packages/pandas/core/indexes/base.py\u001b[0m in \u001b[0;36mget_loc\u001b[0;34m(self, key, method, tolerance)\u001b[0m\n\u001b[1;32m   2898\u001b[0m                 \u001b[0;32mreturn\u001b[0m \u001b[0mself\u001b[0m\u001b[0;34m.\u001b[0m\u001b[0m_engine\u001b[0m\u001b[0;34m.\u001b[0m\u001b[0mget_loc\u001b[0m\u001b[0;34m(\u001b[0m\u001b[0mcasted_key\u001b[0m\u001b[0;34m)\u001b[0m\u001b[0;34m\u001b[0m\u001b[0;34m\u001b[0m\u001b[0m\n\u001b[1;32m   2899\u001b[0m             \u001b[0;32mexcept\u001b[0m \u001b[0mKeyError\u001b[0m \u001b[0;32mas\u001b[0m \u001b[0merr\u001b[0m\u001b[0;34m:\u001b[0m\u001b[0;34m\u001b[0m\u001b[0;34m\u001b[0m\u001b[0m\n\u001b[0;32m-> 2900\u001b[0;31m                 \u001b[0;32mraise\u001b[0m \u001b[0mKeyError\u001b[0m\u001b[0;34m(\u001b[0m\u001b[0mkey\u001b[0m\u001b[0;34m)\u001b[0m \u001b[0;32mfrom\u001b[0m \u001b[0merr\u001b[0m\u001b[0;34m\u001b[0m\u001b[0;34m\u001b[0m\u001b[0m\n\u001b[0m\u001b[1;32m   2901\u001b[0m \u001b[0;34m\u001b[0m\u001b[0m\n\u001b[1;32m   2902\u001b[0m         \u001b[0;32mif\u001b[0m \u001b[0mtolerance\u001b[0m \u001b[0;32mis\u001b[0m \u001b[0;32mnot\u001b[0m \u001b[0;32mNone\u001b[0m\u001b[0;34m:\u001b[0m\u001b[0;34m\u001b[0m\u001b[0;34m\u001b[0m\u001b[0m\n",
            "\u001b[0;31mKeyError\u001b[0m: 'loan_term'"
          ]
        }
      ]
    },
    {
      "cell_type": "code",
      "metadata": {
        "colab": {
          "base_uri": "https://localhost:8080/"
        },
        "id": "SIio_pjDHy7q",
        "outputId": "978996d4-de11-47d3-db11-93702eee6381"
      },
      "source": [
        "print(len(data_train), len(data_test))"
      ],
      "execution_count": null,
      "outputs": [
        {
          "output_type": "stream",
          "text": [
            "0 0\n"
          ],
          "name": "stdout"
        }
      ]
    },
    {
      "cell_type": "code",
      "metadata": {
        "id": "C7herEw-zqOt"
      },
      "source": [
        "y = data['default']\n",
        "data.drop(['default', 'loan_subgrade'], axis = 1, inplace = True)\n",
        "test.drop(['loan_subgrade'], axis = 1, inplace = True)"
      ],
      "execution_count": null,
      "outputs": []
    },
    {
      "cell_type": "code",
      "metadata": {
        "colab": {
          "base_uri": "https://localhost:8080/"
        },
        "id": "MKWDMQs20jfN",
        "outputId": "4da8f8b3-054a-408f-ae51-46c5406af086"
      },
      "source": [
        "print(data.shape, test.shape)"
      ],
      "execution_count": null,
      "outputs": [
        {
          "output_type": "stream",
          "text": [
            "(93172, 18) (39933, 18)\n"
          ],
          "name": "stdout"
        }
      ]
    },
    {
      "cell_type": "code",
      "metadata": {
        "id": "bMRpUdLu0nen"
      },
      "source": [
        "X = data.to_numpy()\n",
        "Y = y.to_numpy()\n",
        "X_test = test.to_numpy()"
      ],
      "execution_count": null,
      "outputs": []
    },
    {
      "cell_type": "code",
      "metadata": {
        "id": "YjZ4pJbO0-Jz"
      },
      "source": [
        "X = np.append(X, sub, axis = 1)\n",
        "X_test = np.append(X_test, sub2, axis = 1)"
      ],
      "execution_count": null,
      "outputs": []
    },
    {
      "cell_type": "code",
      "metadata": {
        "colab": {
          "base_uri": "https://localhost:8080/"
        },
        "id": "GR0nITH_1B7r",
        "outputId": "0edf4839-55d7-47c2-8f85-bfc18018d327"
      },
      "source": [
        "print(X.shape, X_test.shape)"
      ],
      "execution_count": null,
      "outputs": [
        {
          "output_type": "stream",
          "text": [
            "(93172, 53) (39933, 53)\n"
          ],
          "name": "stdout"
        }
      ]
    },
    {
      "cell_type": "code",
      "metadata": {
        "id": "07d9oxQ01Yjw"
      },
      "source": [
        "model = K.Sequential([\n",
        "      K.layers.Dense(53, input_shape = (53,), activation='relu'),\n",
        "      K.layers.Dense(64,  activation='relu'),\n",
        "      K.layers.Dense(16, activation='relu'),\n",
        "      K.layers.Dense(1, activation='sigmoid')                 \n",
        "])"
      ],
      "execution_count": null,
      "outputs": []
    },
    {
      "cell_type": "code",
      "metadata": {
        "colab": {
          "base_uri": "https://localhost:8080/"
        },
        "id": "Ywqm4nwl3lUb",
        "outputId": "95a1a049-7116-40e6-adab-0e8dc038fb05"
      },
      "source": [
        "model.summary()"
      ],
      "execution_count": null,
      "outputs": [
        {
          "output_type": "stream",
          "text": [
            "Model: \"sequential_8\"\n",
            "_________________________________________________________________\n",
            "Layer (type)                 Output Shape              Param #   \n",
            "=================================================================\n",
            "dense_30 (Dense)             (None, 53)                2862      \n",
            "_________________________________________________________________\n",
            "dense_31 (Dense)             (None, 64)                3456      \n",
            "_________________________________________________________________\n",
            "dense_32 (Dense)             (None, 16)                1040      \n",
            "_________________________________________________________________\n",
            "dense_33 (Dense)             (None, 1)                 17        \n",
            "=================================================================\n",
            "Total params: 7,375\n",
            "Trainable params: 7,375\n",
            "Non-trainable params: 0\n",
            "_________________________________________________________________\n"
          ],
          "name": "stdout"
        }
      ]
    },
    {
      "cell_type": "code",
      "metadata": {
        "id": "gGdyChT04dyl"
      },
      "source": [
        "opt = K.optimizers.SGD(learning_rate = 0.1)"
      ],
      "execution_count": null,
      "outputs": []
    },
    {
      "cell_type": "code",
      "metadata": {
        "colab": {
          "base_uri": "https://localhost:8080/",
          "height": 374
        },
        "id": "EYGOVFCg3uGp",
        "outputId": "ddfd3cf9-18c2-4d41-ed0d-93e70e56ae65"
      },
      "source": [
        "model.compile(optimizer = opt, loss = 'mean_squared_error', metrics = ['accuracy'])\n",
        "history = model.fit(X, y, epochs = 25, validation_split = 0.15)"
      ],
      "execution_count": null,
      "outputs": [
        {
          "output_type": "stream",
          "text": [
            "2475/2475 [==============================] - 3s 1ms/step - loss: 0.2386 - accuracy: 0.7614 - val_loss: 0.2309 - val_accuracy: 0.7691\n",
            "Epoch 12/25\n",
            "1210/2475 [=============>................] - ETA: 1s - loss: 0.2391 - accuracy: 0.7609"
          ],
          "name": "stdout"
        },
        {
          "output_type": "error",
          "ename": "KeyboardInterrupt",
          "evalue": "ignored",
          "traceback": [
            "\u001b[0;31m---------------------------------------------------------------------------\u001b[0m",
            "\u001b[0;31mKeyboardInterrupt\u001b[0m                         Traceback (most recent call last)",
            "\u001b[0;32m<ipython-input-228-fb7bc9cd3726>\u001b[0m in \u001b[0;36m<module>\u001b[0;34m()\u001b[0m\n\u001b[1;32m      1\u001b[0m \u001b[0mmodel\u001b[0m\u001b[0;34m.\u001b[0m\u001b[0mcompile\u001b[0m\u001b[0;34m(\u001b[0m\u001b[0moptimizer\u001b[0m \u001b[0;34m=\u001b[0m \u001b[0mopt\u001b[0m\u001b[0;34m,\u001b[0m \u001b[0mloss\u001b[0m \u001b[0;34m=\u001b[0m \u001b[0;34m'mean_squared_error'\u001b[0m\u001b[0;34m,\u001b[0m \u001b[0mmetrics\u001b[0m \u001b[0;34m=\u001b[0m \u001b[0;34m[\u001b[0m\u001b[0;34m'accuracy'\u001b[0m\u001b[0;34m]\u001b[0m\u001b[0;34m)\u001b[0m\u001b[0;34m\u001b[0m\u001b[0;34m\u001b[0m\u001b[0m\n\u001b[0;32m----> 2\u001b[0;31m \u001b[0mhistory\u001b[0m \u001b[0;34m=\u001b[0m \u001b[0mmodel\u001b[0m\u001b[0;34m.\u001b[0m\u001b[0mfit\u001b[0m\u001b[0;34m(\u001b[0m\u001b[0mX\u001b[0m\u001b[0;34m,\u001b[0m \u001b[0my\u001b[0m\u001b[0;34m,\u001b[0m \u001b[0mepochs\u001b[0m \u001b[0;34m=\u001b[0m \u001b[0;36m25\u001b[0m\u001b[0;34m,\u001b[0m \u001b[0mvalidation_split\u001b[0m \u001b[0;34m=\u001b[0m \u001b[0;36m0.15\u001b[0m\u001b[0;34m)\u001b[0m\u001b[0;34m\u001b[0m\u001b[0;34m\u001b[0m\u001b[0m\n\u001b[0m",
            "\u001b[0;32m/usr/local/lib/python3.7/dist-packages/tensorflow/python/keras/engine/training.py\u001b[0m in \u001b[0;36mfit\u001b[0;34m(self, x, y, batch_size, epochs, verbose, callbacks, validation_split, validation_data, shuffle, class_weight, sample_weight, initial_epoch, steps_per_epoch, validation_steps, validation_batch_size, validation_freq, max_queue_size, workers, use_multiprocessing)\u001b[0m\n\u001b[1;32m   1186\u001b[0m               \u001b[0mlogs\u001b[0m \u001b[0;34m=\u001b[0m \u001b[0mtmp_logs\u001b[0m  \u001b[0;31m# No error, now safe to assign to logs.\u001b[0m\u001b[0;34m\u001b[0m\u001b[0;34m\u001b[0m\u001b[0m\n\u001b[1;32m   1187\u001b[0m               \u001b[0mend_step\u001b[0m \u001b[0;34m=\u001b[0m \u001b[0mstep\u001b[0m \u001b[0;34m+\u001b[0m \u001b[0mdata_handler\u001b[0m\u001b[0;34m.\u001b[0m\u001b[0mstep_increment\u001b[0m\u001b[0;34m\u001b[0m\u001b[0;34m\u001b[0m\u001b[0m\n\u001b[0;32m-> 1188\u001b[0;31m               \u001b[0mcallbacks\u001b[0m\u001b[0;34m.\u001b[0m\u001b[0mon_train_batch_end\u001b[0m\u001b[0;34m(\u001b[0m\u001b[0mend_step\u001b[0m\u001b[0;34m,\u001b[0m \u001b[0mlogs\u001b[0m\u001b[0;34m)\u001b[0m\u001b[0;34m\u001b[0m\u001b[0;34m\u001b[0m\u001b[0m\n\u001b[0m\u001b[1;32m   1189\u001b[0m               \u001b[0;32mif\u001b[0m \u001b[0mself\u001b[0m\u001b[0;34m.\u001b[0m\u001b[0mstop_training\u001b[0m\u001b[0;34m:\u001b[0m\u001b[0;34m\u001b[0m\u001b[0;34m\u001b[0m\u001b[0m\n\u001b[1;32m   1190\u001b[0m                 \u001b[0;32mbreak\u001b[0m\u001b[0;34m\u001b[0m\u001b[0;34m\u001b[0m\u001b[0m\n",
            "\u001b[0;32m/usr/local/lib/python3.7/dist-packages/tensorflow/python/keras/callbacks.py\u001b[0m in \u001b[0;36mon_train_batch_end\u001b[0;34m(self, batch, logs)\u001b[0m\n\u001b[1;32m    455\u001b[0m     \"\"\"\n\u001b[1;32m    456\u001b[0m     \u001b[0;32mif\u001b[0m \u001b[0mself\u001b[0m\u001b[0;34m.\u001b[0m\u001b[0m_should_call_train_batch_hooks\u001b[0m\u001b[0;34m:\u001b[0m\u001b[0;34m\u001b[0m\u001b[0;34m\u001b[0m\u001b[0m\n\u001b[0;32m--> 457\u001b[0;31m       \u001b[0mself\u001b[0m\u001b[0;34m.\u001b[0m\u001b[0m_call_batch_hook\u001b[0m\u001b[0;34m(\u001b[0m\u001b[0mModeKeys\u001b[0m\u001b[0;34m.\u001b[0m\u001b[0mTRAIN\u001b[0m\u001b[0;34m,\u001b[0m \u001b[0;34m'end'\u001b[0m\u001b[0;34m,\u001b[0m \u001b[0mbatch\u001b[0m\u001b[0;34m,\u001b[0m \u001b[0mlogs\u001b[0m\u001b[0;34m=\u001b[0m\u001b[0mlogs\u001b[0m\u001b[0;34m)\u001b[0m\u001b[0;34m\u001b[0m\u001b[0;34m\u001b[0m\u001b[0m\n\u001b[0m\u001b[1;32m    458\u001b[0m \u001b[0;34m\u001b[0m\u001b[0m\n\u001b[1;32m    459\u001b[0m   \u001b[0;32mdef\u001b[0m \u001b[0mon_test_batch_begin\u001b[0m\u001b[0;34m(\u001b[0m\u001b[0mself\u001b[0m\u001b[0;34m,\u001b[0m \u001b[0mbatch\u001b[0m\u001b[0;34m,\u001b[0m \u001b[0mlogs\u001b[0m\u001b[0;34m=\u001b[0m\u001b[0;32mNone\u001b[0m\u001b[0;34m)\u001b[0m\u001b[0;34m:\u001b[0m\u001b[0;34m\u001b[0m\u001b[0;34m\u001b[0m\u001b[0m\n",
            "\u001b[0;32m/usr/local/lib/python3.7/dist-packages/tensorflow/python/keras/callbacks.py\u001b[0m in \u001b[0;36m_call_batch_hook\u001b[0;34m(self, mode, hook, batch, logs)\u001b[0m\n\u001b[1;32m    315\u001b[0m       \u001b[0mself\u001b[0m\u001b[0;34m.\u001b[0m\u001b[0m_call_batch_begin_hook\u001b[0m\u001b[0;34m(\u001b[0m\u001b[0mmode\u001b[0m\u001b[0;34m,\u001b[0m \u001b[0mbatch\u001b[0m\u001b[0;34m,\u001b[0m \u001b[0mlogs\u001b[0m\u001b[0;34m)\u001b[0m\u001b[0;34m\u001b[0m\u001b[0;34m\u001b[0m\u001b[0m\n\u001b[1;32m    316\u001b[0m     \u001b[0;32melif\u001b[0m \u001b[0mhook\u001b[0m \u001b[0;34m==\u001b[0m \u001b[0;34m'end'\u001b[0m\u001b[0;34m:\u001b[0m\u001b[0;34m\u001b[0m\u001b[0;34m\u001b[0m\u001b[0m\n\u001b[0;32m--> 317\u001b[0;31m       \u001b[0mself\u001b[0m\u001b[0;34m.\u001b[0m\u001b[0m_call_batch_end_hook\u001b[0m\u001b[0;34m(\u001b[0m\u001b[0mmode\u001b[0m\u001b[0;34m,\u001b[0m \u001b[0mbatch\u001b[0m\u001b[0;34m,\u001b[0m \u001b[0mlogs\u001b[0m\u001b[0;34m)\u001b[0m\u001b[0;34m\u001b[0m\u001b[0;34m\u001b[0m\u001b[0m\n\u001b[0m\u001b[1;32m    318\u001b[0m     \u001b[0;32melse\u001b[0m\u001b[0;34m:\u001b[0m\u001b[0;34m\u001b[0m\u001b[0;34m\u001b[0m\u001b[0m\n\u001b[1;32m    319\u001b[0m       \u001b[0;32mraise\u001b[0m \u001b[0mValueError\u001b[0m\u001b[0;34m(\u001b[0m\u001b[0;34m'Unrecognized hook: {}'\u001b[0m\u001b[0;34m.\u001b[0m\u001b[0mformat\u001b[0m\u001b[0;34m(\u001b[0m\u001b[0mhook\u001b[0m\u001b[0;34m)\u001b[0m\u001b[0;34m)\u001b[0m\u001b[0;34m\u001b[0m\u001b[0;34m\u001b[0m\u001b[0m\n",
            "\u001b[0;32m/usr/local/lib/python3.7/dist-packages/tensorflow/python/keras/callbacks.py\u001b[0m in \u001b[0;36m_call_batch_end_hook\u001b[0;34m(self, mode, batch, logs)\u001b[0m\n\u001b[1;32m    335\u001b[0m       \u001b[0mself\u001b[0m\u001b[0;34m.\u001b[0m\u001b[0m_batch_times\u001b[0m\u001b[0;34m.\u001b[0m\u001b[0mappend\u001b[0m\u001b[0;34m(\u001b[0m\u001b[0mbatch_time\u001b[0m\u001b[0;34m)\u001b[0m\u001b[0;34m\u001b[0m\u001b[0;34m\u001b[0m\u001b[0m\n\u001b[1;32m    336\u001b[0m \u001b[0;34m\u001b[0m\u001b[0m\n\u001b[0;32m--> 337\u001b[0;31m     \u001b[0mself\u001b[0m\u001b[0;34m.\u001b[0m\u001b[0m_call_batch_hook_helper\u001b[0m\u001b[0;34m(\u001b[0m\u001b[0mhook_name\u001b[0m\u001b[0;34m,\u001b[0m \u001b[0mbatch\u001b[0m\u001b[0;34m,\u001b[0m \u001b[0mlogs\u001b[0m\u001b[0;34m)\u001b[0m\u001b[0;34m\u001b[0m\u001b[0;34m\u001b[0m\u001b[0m\n\u001b[0m\u001b[1;32m    338\u001b[0m \u001b[0;34m\u001b[0m\u001b[0m\n\u001b[1;32m    339\u001b[0m     \u001b[0;32mif\u001b[0m \u001b[0mlen\u001b[0m\u001b[0;34m(\u001b[0m\u001b[0mself\u001b[0m\u001b[0;34m.\u001b[0m\u001b[0m_batch_times\u001b[0m\u001b[0;34m)\u001b[0m \u001b[0;34m>=\u001b[0m \u001b[0mself\u001b[0m\u001b[0;34m.\u001b[0m\u001b[0m_num_batches_for_timing_check\u001b[0m\u001b[0;34m:\u001b[0m\u001b[0;34m\u001b[0m\u001b[0;34m\u001b[0m\u001b[0m\n",
            "\u001b[0;32m/usr/local/lib/python3.7/dist-packages/tensorflow/python/keras/callbacks.py\u001b[0m in \u001b[0;36m_call_batch_hook_helper\u001b[0;34m(self, hook_name, batch, logs)\u001b[0m\n\u001b[1;32m    373\u001b[0m     \u001b[0;32mfor\u001b[0m \u001b[0mcallback\u001b[0m \u001b[0;32min\u001b[0m \u001b[0mself\u001b[0m\u001b[0;34m.\u001b[0m\u001b[0mcallbacks\u001b[0m\u001b[0;34m:\u001b[0m\u001b[0;34m\u001b[0m\u001b[0;34m\u001b[0m\u001b[0m\n\u001b[1;32m    374\u001b[0m       \u001b[0mhook\u001b[0m \u001b[0;34m=\u001b[0m \u001b[0mgetattr\u001b[0m\u001b[0;34m(\u001b[0m\u001b[0mcallback\u001b[0m\u001b[0;34m,\u001b[0m \u001b[0mhook_name\u001b[0m\u001b[0;34m)\u001b[0m\u001b[0;34m\u001b[0m\u001b[0;34m\u001b[0m\u001b[0m\n\u001b[0;32m--> 375\u001b[0;31m       \u001b[0mhook\u001b[0m\u001b[0;34m(\u001b[0m\u001b[0mbatch\u001b[0m\u001b[0;34m,\u001b[0m \u001b[0mlogs\u001b[0m\u001b[0;34m)\u001b[0m\u001b[0;34m\u001b[0m\u001b[0;34m\u001b[0m\u001b[0m\n\u001b[0m\u001b[1;32m    376\u001b[0m \u001b[0;34m\u001b[0m\u001b[0m\n\u001b[1;32m    377\u001b[0m     \u001b[0;32mif\u001b[0m \u001b[0mself\u001b[0m\u001b[0;34m.\u001b[0m\u001b[0m_check_timing\u001b[0m\u001b[0;34m:\u001b[0m\u001b[0;34m\u001b[0m\u001b[0;34m\u001b[0m\u001b[0m\n",
            "\u001b[0;32m/usr/local/lib/python3.7/dist-packages/tensorflow/python/keras/callbacks.py\u001b[0m in \u001b[0;36mon_train_batch_end\u001b[0;34m(self, batch, logs)\u001b[0m\n\u001b[1;32m   1027\u001b[0m \u001b[0;34m\u001b[0m\u001b[0m\n\u001b[1;32m   1028\u001b[0m   \u001b[0;32mdef\u001b[0m \u001b[0mon_train_batch_end\u001b[0m\u001b[0;34m(\u001b[0m\u001b[0mself\u001b[0m\u001b[0;34m,\u001b[0m \u001b[0mbatch\u001b[0m\u001b[0;34m,\u001b[0m \u001b[0mlogs\u001b[0m\u001b[0;34m=\u001b[0m\u001b[0;32mNone\u001b[0m\u001b[0;34m)\u001b[0m\u001b[0;34m:\u001b[0m\u001b[0;34m\u001b[0m\u001b[0;34m\u001b[0m\u001b[0m\n\u001b[0;32m-> 1029\u001b[0;31m     \u001b[0mself\u001b[0m\u001b[0;34m.\u001b[0m\u001b[0m_batch_update_progbar\u001b[0m\u001b[0;34m(\u001b[0m\u001b[0mbatch\u001b[0m\u001b[0;34m,\u001b[0m \u001b[0mlogs\u001b[0m\u001b[0;34m)\u001b[0m\u001b[0;34m\u001b[0m\u001b[0;34m\u001b[0m\u001b[0m\n\u001b[0m\u001b[1;32m   1030\u001b[0m \u001b[0;34m\u001b[0m\u001b[0m\n\u001b[1;32m   1031\u001b[0m   \u001b[0;32mdef\u001b[0m \u001b[0mon_test_batch_end\u001b[0m\u001b[0;34m(\u001b[0m\u001b[0mself\u001b[0m\u001b[0;34m,\u001b[0m \u001b[0mbatch\u001b[0m\u001b[0;34m,\u001b[0m \u001b[0mlogs\u001b[0m\u001b[0;34m=\u001b[0m\u001b[0;32mNone\u001b[0m\u001b[0;34m)\u001b[0m\u001b[0;34m:\u001b[0m\u001b[0;34m\u001b[0m\u001b[0;34m\u001b[0m\u001b[0m\n",
            "\u001b[0;32m/usr/local/lib/python3.7/dist-packages/tensorflow/python/keras/callbacks.py\u001b[0m in \u001b[0;36m_batch_update_progbar\u001b[0;34m(self, batch, logs)\u001b[0m\n\u001b[1;32m   1082\u001b[0m     \u001b[0;32mreturn\u001b[0m \u001b[0mself\u001b[0m\u001b[0;34m.\u001b[0m\u001b[0m_call_batch_hooks\u001b[0m\u001b[0;34m\u001b[0m\u001b[0;34m\u001b[0m\u001b[0m\n\u001b[1;32m   1083\u001b[0m \u001b[0;34m\u001b[0m\u001b[0m\n\u001b[0;32m-> 1084\u001b[0;31m   \u001b[0;32mdef\u001b[0m \u001b[0m_batch_update_progbar\u001b[0m\u001b[0;34m(\u001b[0m\u001b[0mself\u001b[0m\u001b[0;34m,\u001b[0m \u001b[0mbatch\u001b[0m\u001b[0;34m,\u001b[0m \u001b[0mlogs\u001b[0m\u001b[0;34m=\u001b[0m\u001b[0;32mNone\u001b[0m\u001b[0;34m)\u001b[0m\u001b[0;34m:\u001b[0m\u001b[0;34m\u001b[0m\u001b[0;34m\u001b[0m\u001b[0m\n\u001b[0m\u001b[1;32m   1085\u001b[0m     \u001b[0;34m\"\"\"Updates the progbar.\"\"\"\u001b[0m\u001b[0;34m\u001b[0m\u001b[0;34m\u001b[0m\u001b[0m\n\u001b[1;32m   1086\u001b[0m     \u001b[0mlogs\u001b[0m \u001b[0;34m=\u001b[0m \u001b[0mlogs\u001b[0m \u001b[0;32mor\u001b[0m \u001b[0;34m{\u001b[0m\u001b[0;34m}\u001b[0m\u001b[0;34m\u001b[0m\u001b[0;34m\u001b[0m\u001b[0m\n",
            "\u001b[0;31mKeyboardInterrupt\u001b[0m: "
          ]
        }
      ]
    },
    {
      "cell_type": "code",
      "metadata": {
        "id": "B_sLzRvX5vT-"
      },
      "source": [
        "y_pred = model.predict(X_test)"
      ],
      "execution_count": null,
      "outputs": []
    },
    {
      "cell_type": "code",
      "metadata": {
        "colab": {
          "base_uri": "https://localhost:8080/"
        },
        "id": "cHkuGa8C60Zu",
        "outputId": "f42189bf-eee5-4303-d747-97e08608bf0f"
      },
      "source": [
        "submission.head(10)"
      ],
      "execution_count": null,
      "outputs": [
        {
          "output_type": "execute_result",
          "data": {
            "text/plain": [
              "0     4855329\n",
              "1    66862420\n",
              "2     3637416\n",
              "3    53682249\n",
              "4    53937165\n",
              "5     1464149\n",
              "6     7429943\n",
              "7    10047245\n",
              "8    46816125\n",
              "9    57125517\n",
              "Name: ID, dtype: int64"
            ]
          },
          "metadata": {
            "tags": []
          },
          "execution_count": 183
        }
      ]
    },
    {
      "cell_type": "code",
      "metadata": {
        "colab": {
          "base_uri": "https://localhost:8080/"
        },
        "id": "2TOWxcUJ6jVd",
        "outputId": "db7df738-15e8-4e1f-e935-49c31b0967cc"
      },
      "source": [
        "sub.shape"
      ],
      "execution_count": null,
      "outputs": [
        {
          "output_type": "execute_result",
          "data": {
            "text/plain": [
              "(39933,)"
            ]
          },
          "metadata": {
            "tags": []
          },
          "execution_count": 181
        }
      ]
    },
    {
      "cell_type": "code",
      "metadata": {
        "colab": {
          "base_uri": "https://localhost:8080/"
        },
        "id": "K8ncJ4qP6WHB",
        "outputId": "5a4f44dc-b0f4-4493-e185-aeb33db72e1d"
      },
      "source": [
        "y_pred.shape"
      ],
      "execution_count": null,
      "outputs": [
        {
          "output_type": "execute_result",
          "data": {
            "text/plain": [
              "(39933, 1)"
            ]
          },
          "metadata": {
            "tags": []
          },
          "execution_count": 230
        }
      ]
    },
    {
      "cell_type": "code",
      "metadata": {
        "id": "cmW5SyY05xkl"
      },
      "source": [
        "submission.to_csv(\"submission.csv\")"
      ],
      "execution_count": null,
      "outputs": []
    },
    {
      "cell_type": "code",
      "metadata": {
        "id": "diCd9KGp6SPB"
      },
      "source": [
        "y_pred = pd.DataFrame(y_pred)\n",
        "y_pred.to_csv(\"y.csv\")"
      ],
      "execution_count": null,
      "outputs": []
    }
  ]
}